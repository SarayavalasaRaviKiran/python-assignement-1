{
 "cells": [
  {
   "cell_type": "code",
   "execution_count": null,
   "id": "e16d2b18",
   "metadata": {},
   "outputs": [],
   "source": []
  },
  {
   "cell_type": "markdown",
   "id": "890d532a",
   "metadata": {},
   "source": [
    "1. In the below elements which of them are values or an expression? eg:- values can be\n",
    "\n",
    "integer or string and expressions will be mathematical operators.\n",
    "\n",
    "*        ----expression\n",
    "\n",
    "'hello'  ------value\n",
    "\n",
    "-87.8    ------value\n",
    "\n",
    "-        ------expression\n",
    "\n",
    "/        ------expression \n",
    "\n",
    "+        ------expression\n",
    "\n",
    "6        ------value"
   ]
  },
  {
   "cell_type": "markdown",
   "id": "75186c36",
   "metadata": {},
   "source": [
    "2. What is the difference between string and variable?\n",
    "\n",
    "String: String can be written in quotes eg: \"ravi\", 'kite'  A string is a type of value that can be stored in a variable. A string is made up of characters, and can include letters, words, phrases, or symbols\n",
    "\n",
    "Variable: It is the thing in which we can store data just like a container.variable is a reserved memory location to store values.\n",
    "    "
   ]
  },
  {
   "cell_type": "markdown",
   "id": "fcc9b71f",
   "metadata": {},
   "source": [
    "3. Describe three different data types.\n",
    "\n",
    "List: the list is used for storing multiple data items in a single variable eg. thislist = [\"apple\", \"banana\", \"cherry\"].\n",
    "\n",
    "Integer: integer can store only numerical values eg -1,+2.\n",
    "\n",
    "Float: float can store only floating values decimal values such as 233.33, 22.2, etc."
   ]
  },
  {
   "cell_type": "markdown",
   "id": "65ae796e",
   "metadata": {},
   "source": [
    "4. What is an expression made up of? What do all expressions do? \n",
    "\n",
    "Expression is made up of values, containers, and mathematical operators (operands) e.g \n",
    "\n",
    "     d = 5 + 6     and expressions are used to evaluate the values or represent the result on the screen."
   ]
  },
  {
   "cell_type": "markdown",
   "id": "d18a6c7a",
   "metadata": {},
   "source": [
    "5. This assignment statements, like spam = 10. What is the difference between an expression and a statement?\n",
    "\n",
    "Expression is made up of values, containers, and mathematical operators (operands) and the statement is just like a command that a python interpreter executes like print."
   ]
  },
  {
   "cell_type": "markdown",
   "id": "a5762e15",
   "metadata": {},
   "source": [
    "6. After running the following code, what does the variable bacon contain?\n",
    "\n",
    "bacon = 22\n",
    "\n",
    "bacon + 1"
   ]
  },
  {
   "cell_type": "code",
   "execution_count": 2,
   "id": "ba278206",
   "metadata": {},
   "outputs": [
    {
     "data": {
      "text/plain": [
       "'it gives out put 23'"
      ]
     },
     "execution_count": 2,
     "metadata": {},
     "output_type": "execute_result"
    }
   ],
   "source": [
    "bacon = 22\n",
    "\n",
    "bacon + 1\n",
    "\"it gives out put 23\""
   ]
  },
  {
   "cell_type": "code",
   "execution_count": 3,
   "id": "73695d3b",
   "metadata": {},
   "outputs": [
    {
     "data": {
      "text/plain": [
       "23"
      ]
     },
     "execution_count": 3,
     "metadata": {},
     "output_type": "execute_result"
    }
   ],
   "source": [
    "bacon = 22\n",
    "\n",
    "bacon + 1"
   ]
  },
  {
   "cell_type": "markdown",
   "id": "df9b92c6",
   "metadata": {},
   "source": [
    "7. What should the values of the following two terms be?\n",
    "\n",
    "'spam' + 'spamspam'____>\"output:spamspamspam \"\n",
    "\n",
    "'spam' * 3______>\"output:spamspamspam\"\n",
    "both will be same output"
   ]
  },
  {
   "cell_type": "code",
   "execution_count": 4,
   "id": "14404fde",
   "metadata": {},
   "outputs": [
    {
     "data": {
      "text/plain": [
       "'spamspamspam'"
      ]
     },
     "execution_count": 4,
     "metadata": {},
     "output_type": "execute_result"
    }
   ],
   "source": [
    "'spam' * 3"
   ]
  },
  {
   "cell_type": "code",
   "execution_count": 5,
   "id": "da81f327",
   "metadata": {},
   "outputs": [
    {
     "data": {
      "text/plain": [
       "'spamspamspam'"
      ]
     },
     "execution_count": 5,
     "metadata": {},
     "output_type": "execute_result"
    }
   ],
   "source": [
    "'spam' + 'spamspam'"
   ]
  },
  {
   "cell_type": "markdown",
   "id": "f86728dc",
   "metadata": {},
   "source": [
    "8. Why is eggs a valid variable name while 100 is invalid?\n",
    "\n",
    "Ans:  we can't start giving variable an integer name. if we, we should begin with, a string-like alphabet name then integer. e100 or eggs100 is valid"
   ]
  },
  {
   "cell_type": "markdown",
   "id": "99dd3ae1",
   "metadata": {},
   "source": [
    "9. What three functions can be used to get the integer, floating-point number, or string version of a value?\n",
    "\n",
    "ans: str(), int(), float()"
   ]
  },
  {
   "cell_type": "code",
   "execution_count": null,
   "id": "988f5aef",
   "metadata": {},
   "outputs": [],
   "source": [
    "10. Why does this expression cause an error? How can you fix it?\n",
    "\n",
    "'I have eaten' + 99 + 'burritos'\n",
    "\n",
    "sol we will get error because 99 is an integer it cannot be concatenated with strings, if we have to concatenate it we need to do typecasting."
   ]
  }
 ],
 "metadata": {
  "kernelspec": {
   "display_name": "Python 3 (ipykernel)",
   "language": "python",
   "name": "python3"
  },
  "language_info": {
   "codemirror_mode": {
    "name": "ipython",
    "version": 3
   },
   "file_extension": ".py",
   "mimetype": "text/x-python",
   "name": "python",
   "nbconvert_exporter": "python",
   "pygments_lexer": "ipython3",
   "version": "3.9.7"
  }
 },
 "nbformat": 4,
 "nbformat_minor": 5
}
